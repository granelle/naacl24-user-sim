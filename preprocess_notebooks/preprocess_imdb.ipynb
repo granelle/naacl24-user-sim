{
 "cells": [
  {
   "cell_type": "code",
   "execution_count": null,
   "metadata": {},
   "outputs": [],
   "source": [
    "import json\n",
    "import random\n",
    "import pandas as pd"
   ]
  },
  {
   "cell_type": "code",
   "execution_count": null,
   "metadata": {},
   "outputs": [],
   "source": [
    "with open('../data/common/imdb/user-reviews-1079.json', 'r') as file:\n",
    "    data = json.load(file)"
   ]
  },
  {
   "cell_type": "code",
   "execution_count": null,
   "metadata": {},
   "outputs": [],
   "source": [
    "reviews_large = []\n",
    "\n",
    "for u, reviews in data.items():\n",
    "    \n",
    "    for i, r in enumerate(reviews):\n",
    "        \n",
    "        title = r['movie_title']    \n",
    "        review_title = r['review_title']\n",
    "        review_content = r['review_content']\n",
    "        \n",
    "        reviews_large.append({\n",
    "            \"title\": title, \n",
    "            \"review\": f\"{review_title}. {review_content}\"   \n",
    "            \n",
    "        })\n",
    "\n",
    "reviews_large = pd.DataFrame(reviews_large)"
   ]
  },
  {
   "cell_type": "code",
   "execution_count": null,
   "metadata": {},
   "outputs": [],
   "source": [
    "reviews_large"
   ]
  },
  {
   "cell_type": "code",
   "execution_count": null,
   "metadata": {},
   "outputs": [],
   "source": [
    "reviews_small = []\n",
    "\n",
    "for u, reviews in data.items():\n",
    "    \n",
    "    r = random.choice(reviews)\n",
    "    title = r['movie_title']    \n",
    "    review_title = r['review_title']\n",
    "    review_content = r['review_content']\n",
    "    \n",
    "    reviews_small.append({\n",
    "        \"title\": title, \n",
    "        \"review\": f\"{review_title}. {review_content}\"   \n",
    "    })\n",
    "    \n",
    "reviews_small = pd.DataFrame(reviews_small)"
   ]
  },
  {
   "cell_type": "code",
   "execution_count": null,
   "metadata": {},
   "outputs": [],
   "source": [
    "reviews_small"
   ]
  },
  {
   "cell_type": "code",
   "execution_count": null,
   "metadata": {},
   "outputs": [],
   "source": [
    "reviews_large.to_csv('../data/t3_open_preference/reviews_large.csv')\n",
    "reviews_small.to_csv('../data/t3_open_preference/reviews_small.csv')"
   ]
  }
 ],
 "metadata": {
  "kernelspec": {
   "display_name": "256",
   "language": "python",
   "name": "python3"
  },
  "language_info": {
   "codemirror_mode": {
    "name": "ipython",
    "version": 3
   },
   "file_extension": ".py",
   "mimetype": "text/x-python",
   "name": "python",
   "nbconvert_exporter": "python",
   "pygments_lexer": "ipython3",
   "version": "3.8.12"
  }
 },
 "nbformat": 4,
 "nbformat_minor": 2
}
