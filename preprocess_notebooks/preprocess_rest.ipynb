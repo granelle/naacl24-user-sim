{
 "cells": [
  {
   "cell_type": "code",
   "execution_count": null,
   "metadata": {},
   "outputs": [],
   "source": [
    "import pandas as pd\n",
    "import json\n",
    "import re\n",
    "import ast\n",
    "import random\n",
    "import datetime\n",
    "import pickle\n",
    "from collections import defaultdict\n",
    "from tqdm import tqdm\n",
    "from pathlib import Path"
   ]
  },
  {
   "cell_type": "markdown",
   "metadata": {},
   "source": [
    "### IMDB reviews"
   ]
  },
  {
   "cell_type": "code",
   "execution_count": null,
   "metadata": {},
   "outputs": [],
   "source": [
    "data_dir = '../data/common/imdb' \n",
    "with open(f'{data_dir}/user-reviews-1079.json', 'r') as file: \n",
    "    data = json.load(file)\n",
    "    \n",
    "save_dir = Path('../data/t1_items/imdb')\n",
    "save_dir.mkdir(exist_ok=True, parents=True)"
   ]
  },
  {
   "cell_type": "code",
   "execution_count": null,
   "metadata": {},
   "outputs": [],
   "source": [
    "n_reviews = 0\n",
    "for u_id, reviews in data.items():\n",
    "    n_reviews += len(reviews)\n",
    "print(n_reviews)"
   ]
  },
  {
   "cell_type": "code",
   "execution_count": null,
   "metadata": {},
   "outputs": [],
   "source": [
    "processed = []\n",
    "title2count = defaultdict(int)\n",
    "\n",
    "for u_id, reviews in data.items():\n",
    "    \n",
    "    if len(reviews) < 11:\n",
    "        continue\n",
    "    \n",
    "    random.shuffle(reviews)\n",
    "    \n",
    "    anchor_str = \"\"\n",
    "    test_answer = []\n",
    "    \n",
    "    for i, r in enumerate(reviews):\n",
    "        \n",
    "        item = r['movie_title']    \n",
    "        review_title = r['review_title']\n",
    "        \n",
    "        if i < 10:  # 10 anchor reviews\n",
    "            anchor_str += f\"{item}: {review_title}\\n\"\n",
    "        else:\n",
    "            test_answer.append(item)  # rest is prediction\n",
    "            title2count[item] += 1\n",
    "            \n",
    "    processed.append({\n",
    "        \"anchor_str\": anchor_str, \n",
    "        \"test_answer\": test_answer})\n",
    "    \n",
    "processed_df = pd.DataFrame(processed)"
   ]
  },
  {
   "cell_type": "code",
   "execution_count": null,
   "metadata": {},
   "outputs": [],
   "source": [
    "processed_df.head()"
   ]
  },
  {
   "cell_type": "code",
   "execution_count": null,
   "metadata": {},
   "outputs": [],
   "source": [
    "len(processed_df), len(title2count)"
   ]
  },
  {
   "cell_type": "code",
   "execution_count": null,
   "metadata": {},
   "outputs": [],
   "source": [
    "processed_df.to_csv(save_dir / 'processed.csv')\n",
    "with open(save_dir / 'title2count.json', 'w') as f:\n",
    "    json.dump(title2count, f, indent=4)"
   ]
  },
  {
   "cell_type": "markdown",
   "metadata": {},
   "source": [
    "### Redial "
   ]
  },
  {
   "cell_type": "code",
   "execution_count": null,
   "metadata": {},
   "outputs": [],
   "source": [
    "data_dir = '../data/common/redial'\n",
    "data = []\n",
    "with open(f'{data_dir}/train_data.jsonl', 'r') as file:   \n",
    "    for line in file:\n",
    "        data.append(json.loads(line))\n",
    "    \n",
    "save_dir = Path('../data/t1_items/redial')\n",
    "save_dir.mkdir(exist_ok=True, parents=True)"
   ]
  },
  {
   "cell_type": "code",
   "execution_count": null,
   "metadata": {},
   "outputs": [],
   "source": [
    "\n",
    "processed = []\n",
    "title2count = defaultdict(int)\n",
    "\n",
    "for i, d in enumerate(data):\n",
    "    \n",
    "    mid2mtitle = d['movieMentions']\n",
    "    mid2context = d['respondentQuestions']\n",
    "    \n",
    "    mtitles = []\n",
    "    for mid in mid2context:\n",
    "        context = mid2context[mid]\n",
    "        mtitle = mid2mtitle[mid]\n",
    "        if not context['suggested']:\n",
    "            mtitles.append(mtitle)\n",
    "            \n",
    "    if len(mtitles) < 3:\n",
    "        continue\n",
    "\n",
    "    anchor_str = []\n",
    "    test_answer = []\n",
    "    \n",
    "    for i, mtitle in enumerate(mtitles):\n",
    "    \n",
    "        if i < 2:  # two anchor reviews\n",
    "            if mtitle:\n",
    "                anchor_str.append(mtitle)\n",
    "        else:\n",
    "            test_answer.append(mtitle)\n",
    "            title2count[mtitle] += 1 \n",
    "            \n",
    "    processed.append({\n",
    "        \"anchor_str\": ' and '.join(anchor_str), \n",
    "        \"test_answer\": test_answer})\n",
    "    \n",
    "processed_df = pd.DataFrame(processed)"
   ]
  },
  {
   "cell_type": "code",
   "execution_count": null,
   "metadata": {},
   "outputs": [],
   "source": [
    "len(processed_df), len(title2count)"
   ]
  },
  {
   "cell_type": "code",
   "execution_count": null,
   "metadata": {},
   "outputs": [],
   "source": [
    "processed_df.to_csv(save_dir / 'processed.csv')\n",
    "with open(save_dir / 'title2count.json', 'w') as f:\n",
    "    json.dump(title2count, f, indent=4)"
   ]
  },
  {
   "cell_type": "markdown",
   "metadata": {},
   "source": [
    "### Reddit"
   ]
  },
  {
   "cell_type": "code",
   "execution_count": null,
   "metadata": {},
   "outputs": [],
   "source": [
    "# Get processed data from t4_requests\n",
    "df = pd.read_csv('../data/t4_requests/requests.csv')\n",
    "\n",
    "save_dir = Path('../data/t1_items/reddit')\n",
    "save_dir.mkdir(exist_ok=True, parents=True)"
   ]
  },
  {
   "cell_type": "code",
   "execution_count": null,
   "metadata": {},
   "outputs": [],
   "source": [
    "df.head(2)"
   ]
  },
  {
   "cell_type": "code",
   "execution_count": null,
   "metadata": {},
   "outputs": [],
   "source": [
    "movies_per_submission = df['extracted_names'].apply(ast.literal_eval).tolist()"
   ]
  },
  {
   "cell_type": "code",
   "execution_count": null,
   "metadata": {},
   "outputs": [],
   "source": [
    "lengths = []\n",
    "for movies in movies_per_submission:\n",
    "    lengths.append(len(movies))\n",
    "\n",
    "length2count = defaultdict(int)\n",
    "for l in lengths:\n",
    "    length2count[l] += 1"
   ]
  },
  {
   "cell_type": "code",
   "execution_count": null,
   "metadata": {},
   "outputs": [],
   "source": [
    "for l in range(20):\n",
    "    print(l, length2count[l])"
   ]
  },
  {
   "cell_type": "code",
   "execution_count": null,
   "metadata": {},
   "outputs": [],
   "source": []
  },
  {
   "cell_type": "code",
   "execution_count": null,
   "metadata": {},
   "outputs": [],
   "source": [
    "processed = []\n",
    "title2count = defaultdict(int)\n",
    "\n",
    "for i, row in df.iterrows():\n",
    "    \n",
    "    utc_time = row['utc_time']\n",
    "    movies = ast.literal_eval(row['extracted_names'])\n",
    "    \n",
    "    if len(movies) < 3:\n",
    "        continue\n",
    "\n",
    "    for m in movies:\n",
    "        title2count[m] += 1\n",
    "    \n",
    "    anchor_movies = movies[:2]\n",
    "    test_answer = movies[2:]\n",
    "            \n",
    "    processed.append({\n",
    "        \"utc_time\": utc_time,  # This is unique to this data\n",
    "        \"anchor_str\": ' and '.join(anchor_movies), \n",
    "        \"test_answer\": test_answer})\n",
    "    \n",
    "processed_df = pd.DataFrame(processed)"
   ]
  },
  {
   "cell_type": "code",
   "execution_count": null,
   "metadata": {},
   "outputs": [],
   "source": [
    "len(processed_df), len(title2count)"
   ]
  },
  {
   "cell_type": "code",
   "execution_count": null,
   "metadata": {},
   "outputs": [],
   "source": [
    "processed_df"
   ]
  },
  {
   "cell_type": "code",
   "execution_count": null,
   "metadata": {},
   "outputs": [],
   "source": [
    "processed_df.to_csv(save_dir / 'processed.csv')\n",
    "with open(save_dir / 'title2count.json', 'w') as f:\n",
    "    json.dump(title2count, f, indent=4)"
   ]
  }
 ],
 "metadata": {
  "kernelspec": {
   "display_name": "nlp-gpu",
   "language": "python",
   "name": "python3"
  },
  "language_info": {
   "codemirror_mode": {
    "name": "ipython",
    "version": 3
   },
   "file_extension": ".py",
   "mimetype": "text/x-python",
   "name": "python",
   "nbconvert_exporter": "python",
   "pygments_lexer": "ipython3",
   "version": "3.8.12"
  }
 },
 "nbformat": 4,
 "nbformat_minor": 2
}
