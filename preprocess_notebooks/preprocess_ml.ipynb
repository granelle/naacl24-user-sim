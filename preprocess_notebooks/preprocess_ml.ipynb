{
 "cells": [
  {
   "cell_type": "code",
   "execution_count": null,
   "metadata": {},
   "outputs": [],
   "source": [
    "import pandas as pd\n",
    "import csv\n",
    "from pathlib import Path\n",
    "import matplotlib.pyplot as plt"
   ]
  },
  {
   "cell_type": "code",
   "execution_count": null,
   "metadata": {},
   "outputs": [],
   "source": [
    "movies_df = pd.read_csv('../data/common/ml-25m/movies.csv')\n",
    "ratings_df = pd.read_csv('../data/common/ml-25m/ratings.csv')"
   ]
  },
  {
   "cell_type": "code",
   "execution_count": null,
   "metadata": {},
   "outputs": [],
   "source": [
    "ratings_df.head(3)"
   ]
  },
  {
   "cell_type": "code",
   "execution_count": null,
   "metadata": {},
   "outputs": [],
   "source": [
    "grouped = ratings_df.groupby(['movieId']).agg(\n",
    "    counts=('rating', 'size'),\n",
    "    average_rating=('rating', 'mean')\n",
    ")"
   ]
  },
  {
   "cell_type": "code",
   "execution_count": null,
   "metadata": {},
   "outputs": [],
   "source": [
    "n_items = 200\n",
    "\n",
    "frequent = grouped[grouped['counts'] >= 5000].sample(n=n_items, random_state=0)\n",
    "frequent = frequent.sort_values(by='average_rating', ascending=False)\n",
    "print(len(frequent))\n",
    "\n",
    "infrequent = grouped[(grouped['counts'] >= 50) & (grouped['counts'] <= 500)].sample(n=n_items, random_state=0)\n",
    "infrequent = infrequent.sort_values(by='average_rating', ascending=False)\n",
    "print(len(infrequent))"
   ]
  },
  {
   "cell_type": "code",
   "execution_count": null,
   "metadata": {},
   "outputs": [],
   "source": [
    "all_freq = grouped.sample(n=300, random_state=0)\n",
    "all_freq = all_freq.sort_values(by='average_rating', ascending=False)"
   ]
  },
  {
   "cell_type": "code",
   "execution_count": null,
   "metadata": {},
   "outputs": [],
   "source": [
    "frequent = pd.merge(frequent, movies_df[['movieId', 'title']], on='movieId', how='left')\n",
    "infrequent = pd.merge(infrequent, movies_df[['movieId', 'title']], on='movieId', how='left')\n",
    "all_freq = pd.merge(all_freq, movies_df[['movieId', 'title']], on='movieId', how='left')"
   ]
  },
  {
   "cell_type": "code",
   "execution_count": null,
   "metadata": {},
   "outputs": [],
   "source": [
    "frequent.head()"
   ]
  },
  {
   "cell_type": "code",
   "execution_count": null,
   "metadata": {},
   "outputs": [],
   "source": [
    "plt.figure(figsize=(5, 3))  \n",
    "plt.plot(range(len(frequent)), frequent['average_rating'], marker='.')  \n",
    "plt.title('Average ratings of frequent items')\n",
    "\n",
    "plt.figure(figsize=(5, 3))  \n",
    "plt.plot(range(len(infrequent)), infrequent['average_rating'], marker='.')  \n",
    "plt.title('Average ratings of infrequent items')\n",
    "\n",
    "plt.figure(figsize=(5, 3))  \n",
    "plt.plot(range(len(all_freq)), all_freq['average_rating'], marker='.')  \n",
    "plt.title('Average ratings of all items')"
   ]
  },
  {
   "cell_type": "code",
   "execution_count": null,
   "metadata": {},
   "outputs": [],
   "source": [
    "save_dir = Path(f'../data/t2_bin_preference/')\n",
    "save_dir.mkdir(exist_ok=True, parents=True)\n",
    "\n",
    "frequent.to_csv(save_dir / f'frequent-{len(frequent)}.csv')\n",
    "infrequent.to_csv(save_dir / f'infrequent-{len(infrequent)}.csv')\n",
    "all_freq.to_csv(save_dir / f'all-{len(all_freq)}.csv')"
   ]
  }
 ],
 "metadata": {
  "kernelspec": {
   "display_name": "llm",
   "language": "python",
   "name": "python3"
  },
  "language_info": {
   "codemirror_mode": {
    "name": "ipython",
    "version": 3
   },
   "file_extension": ".py",
   "mimetype": "text/x-python",
   "name": "python",
   "nbconvert_exporter": "python",
   "pygments_lexer": "ipython3",
   "version": "3.8.12"
  }
 },
 "nbformat": 4,
 "nbformat_minor": 2
}
